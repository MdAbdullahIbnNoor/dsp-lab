{
 "cells": [
  {
   "cell_type": "code",
   "execution_count": 1,
   "id": "192eb6af-4ac9-4365-9f5f-9fde9bce12a7",
   "metadata": {},
   "outputs": [
    {
     "name": "stdout",
     "output_type": "stream",
     "text": [
      "\n",
      "Convolution Result (x * h): [ 2.  8. 22. 30. 34. 18. 18.]\n",
      "Correlation Result (x ⨂ h): [ 6. 16. 34. 26. 30. 14.  6.]\n"
     ]
    }
   ],
   "source": [
    "import numpy as np\n",
    "\n",
    "def convolution(x, h):\n",
    "    N = len(x)\n",
    "    M = len(h)\n",
    "    y = np.zeros(N + M - 1)\n",
    "    for n in range(N + M - 1):\n",
    "        for k in range(max(0, n - M + 1), min(n + 1, N)):\n",
    "            y[n] += x[k] * h[n - k]\n",
    "    return y\n",
    "\n",
    "def correlation(x, h):\n",
    "    N = len(x)\n",
    "    M = len(h)\n",
    "    y = np.zeros(N + M - 1)\n",
    "    h_rev = np.flip(h)\n",
    "    for n in range(N + M - 1):\n",
    "        for k in range(max(0, n - M + 1), min(n + 1, N)):\n",
    "            y[n] += x[k] * h_rev[n - k]\n",
    "    return y\n",
    "\n",
    "def main():\n",
    "    x = list(map(float, input(\"Enter the first sequence x[n]: \").split(',')))\n",
    "    h = list(map(float, input(\"Enter the second sequence h[n]: \").split(',')))\n",
    "\n",
    "    #start_index_x = int(input(\"Enter the starting index of x[n]: \"))\n",
    "    #start_index_h = int(input(\"Enter the starting index of h[n]: \"))\n",
    "\n",
    "    x = np.array(x)\n",
    "    h = np.array(h)\n",
    "\n",
    "    conv_result=convolution(x,h)\n",
    "    corr_result=correlation(x,h)\n",
    "    print(\"\\nConvolution Result (x * h):\", conv_result)\n",
    "    print(\"Correlation Result (x ⨂ h):\", corr_result)\n",
    "\n",
    "if __name__ == \"__main__\":\n",
    "    main()\n"
   ]
  }
 ],
 "metadata": {
  "kernelspec": {
   "display_name": "Python 3 (ipykernel)",
   "language": "python",
   "name": "python3"
  },
  "language_info": {
   "codemirror_mode": {
    "name": "ipython",
    "version": 3
   },
   "file_extension": ".py",
   "mimetype": "text/x-python",
   "name": "python",
   "nbconvert_exporter": "python",
   "pygments_lexer": "ipython3",
   "version": "3.12.2"
  }
 },
 "nbformat": 4,
 "nbformat_minor": 5
}
