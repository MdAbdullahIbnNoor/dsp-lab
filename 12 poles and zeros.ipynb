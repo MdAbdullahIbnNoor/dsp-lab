{
 "cells": [
  {
   "cell_type": "code",
   "execution_count": 4,
   "id": "7fe6f3cf-b8d9-42c9-8ae3-75a6324679a9",
   "metadata": {},
   "outputs": [
    {
     "name": "stdout",
     "output_type": "stream",
     "text": [
      "For H(s)=(s^3+1) /(s^4+ 2s^4 +1)\n",
      "Poles: [-I, I]\n",
      "Zeros: [-1, 1/2 - sqrt(3)*I/2, 1/2 + sqrt(3)*I/2]\n",
      "Roots: [-I, I]\n",
      "For H(s)=(4s^2+8s+10) /(2s^3 + 8s^2 +18s+20)\n",
      "Poles: [-2, -1 - 2*I, -1 + 2*I]\n",
      "Zeros: [-1 - sqrt(6)*I/2, -1 + sqrt(6)*I/2]\n",
      "Roots: [-2, -1 - 2*I, -1 + 2*I]\n"
     ]
    }
   ],
   "source": [
    "import sympy as sp\n",
    "\n",
    "# Define the symbolic variable s\n",
    "s = sp.symbols('s')\n",
    "\n",
    "# Define the transfer function H(s)\n",
    "H = (s**3 + 1) / (s**4 + 2*s**2 + 1)\n",
    "\n",
    "# Find the poles and zeros\n",
    "poles = sp.solve(sp.denom(H), s)\n",
    "zeros = sp.solve(sp.numer(H), s)\n",
    "\n",
    "# Find the roots\n",
    "roots = sp.solve(sp.denom(H), s)\n",
    "\n",
    "print(\"For H(s)=(s^3+1) /(s^4+ 2s^4 +1)\")\n",
    "print(\"Poles:\", poles)\n",
    "print(\"Zeros:\", zeros)\n",
    "print(\"Roots:\", roots)\n",
    "\n",
    "H2 = (4*s**2 + 8*s +10) / (2*s**3 + 8*s**2 + 18*s +20)\n",
    "\n",
    "# Find the poles and zeros\n",
    "poles = sp.solve(sp.denom(H2), s)\n",
    "zeros = sp.solve(sp.numer(H2), s)\n",
    "\n",
    "# Find the roots\n",
    "roots = sp.solve(sp.denom(H2), s)\n",
    "\n",
    "print(\"For H(s)=(4s^2+8s+10) /(2s^3 + 8s^2 +18s+20)\")\n",
    "print(\"Poles:\", poles)\n",
    "print(\"Zeros:\", zeros)\n",
    "print(\"Roots:\", roots)\n"
   ]
  }
 ],
 "metadata": {
  "kernelspec": {
   "display_name": "Python 3 (ipykernel)",
   "language": "python",
   "name": "python3"
  },
  "language_info": {
   "codemirror_mode": {
    "name": "ipython",
    "version": 3
   },
   "file_extension": ".py",
   "mimetype": "text/x-python",
   "name": "python",
   "nbconvert_exporter": "python",
   "pygments_lexer": "ipython3",
   "version": "3.12.2"
  }
 },
 "nbformat": 4,
 "nbformat_minor": 5
}
